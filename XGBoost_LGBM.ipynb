{
 "cells": [
  {
   "cell_type": "code",
   "execution_count": null,
   "metadata": {},
   "outputs": [],
   "source": [
    "#%%Encoding categorical variables\n",
    "from sklearn import preprocessing\n",
    "le = preprocessing.LabelEncoder()\n",
    "features = []; categorical_features = []\n",
    "num_of_columns = x_data.shape[1]\n",
    " \n",
    "for i in range(0, num_of_columns):\n",
    " column_name = x_data.columns[i]\n",
    " column_type = x_data[column_name].dtypes\n",
    " \n",
    " if i != num_of_columns: \n",
    "  features.append(column_name)\n",
    " \n",
    " if column_type == 'object':\n",
    "  le.fit(x_data[column_name])\n",
    "  feature_classes = list(le.classes_)\n",
    "  encoded_feature = le.transform(x_data[column_name])\n",
    "  x_data[column_name] = pd.DataFrame(encoded_feature)\n",
    " \n",
    "  if i != num_of_columns: \n",
    "   categorical_features.append(column_name)\n",
    "x_data.info()\n",
    "x_data.head()"
   ]
  },
  {
   "cell_type": "code",
   "execution_count": null,
   "metadata": {},
   "outputs": [],
   "source": [
    "#%% Applying XGBoost\n",
    "\n",
    "#Splitting into training and test set\n",
    "from sklearn.model_selection import train_test_split\n",
    "x_train, x_test, y_train, y_test = train_test_split(x_data, y_data, test_size = 0.2, random_state = 0)\n",
    "\n",
    "import xgboost as xgb\n",
    "gbm_model = xgb.XGBClassifier(max_depth=5,\n",
    "                              tree_method = 'exact',\n",
    "                              n_estimators=500,\n",
    "                              learning_rate=0.5)\n",
    "\n",
    "gbm_model.fit(x_train, y_train)\n",
    "\n",
    "gbm_pred = gbm_model.predict(x_test)"
   ]
  },
  {
   "cell_type": "code",
   "execution_count": null,
   "metadata": {},
   "outputs": [],
   "source": [
    "from sklearn.metrics import confusion_matrix,accuracy_score,precision_score,recall_score,f1_score\n",
    "confusion_matrix = confusion_matrix(gbm_pred, y_test)\n",
    "print(confusion_matrix)\n",
    "print(\"Accuracy:\",accuracy_score(gbm_pred, y_test))\n",
    "print(\"Recall:\",recall_score(gbm_pred, y_test))\n",
    "print(\"Precision:\",precision_score(gbm_pred, y_test))\n",
    "print(\"F1 Score:\",f1_score(gbm_pred, y_test))"
   ]
  },
  {
   "cell_type": "code",
   "execution_count": null,
   "metadata": {},
   "outputs": [],
   "source": [
    "#%% Light GBM\n",
    "\n",
    "#Splitting training and test set\n",
    "from sklearn.model_selection import train_test_split\n",
    "x_train, x_test, y_train, y_test = train_test_split(x_data, y_data, test_size = 0.25, random_state = 0)\n",
    "\n",
    "# Create the LightGBM data containers\n",
    "import lightgbm as lgb\n",
    "train_data = lgb.Dataset(x_train, label=y_train, categorical_feature = ['campaign_type','brand_type','category','age_range','marital_status'])\n",
    "test_data = lgb.Dataset(x_test, label=y_test)"
   ]
  },
  {
   "cell_type": "code",
   "execution_count": null,
   "metadata": {},
   "outputs": [],
   "source": [
    "# Train the model\n",
    "parameters = {\n",
    "    'max_depth':10,\n",
    "    'application':'binary',\n",
    "    'objective':'binary',\n",
    "    'metric':'binary_logloss',\n",
    "    'boosting':'gbdt',\n",
    "    'num_leaves':31,\n",
    "    'feature_fraction':0.5,\n",
    "    'bagging_fraction':0.5,\n",
    "    'learning_rate':0.5,\n",
    "    'min_data':50,\n",
    "    'verbose':0\n",
    "}\n",
    "lgb_model = lgb.train(parameters,\n",
    "                      train_data,\n",
    "                      valid_sets=test_data,\n",
    "                      num_boost_round=500,\n",
    "                      early_stopping_rounds=100)"
   ]
  },
  {
   "cell_type": "code",
   "execution_count": null,
   "metadata": {},
   "outputs": [],
   "source": [
    "#Prediction\n",
    "y_pred = lgb_model.predict(x_test)\n",
    "\n",
    "#convert into binary values\n",
    "for i in range(0,len(y_pred)):\n",
    "    if y_pred[i]>=.5:       # setting threshold to .5\n",
    "       y_pred[i]=1\n",
    "    else:  \n",
    "       y_pred[i]=0"
   ]
  },
  {
   "cell_type": "code",
   "execution_count": null,
   "metadata": {},
   "outputs": [],
   "source": [
    "from sklearn.metrics import confusion_matrix,accuracy_score,precision_score,recall_score,f1_score\n",
    "confusion_matrix = confusion_matrix(y_test, y_pred)\n",
    "print(confusion_matrix)\n",
    "print(\"Accuracy:\",accuracy_score(y_test, y_pred))\n",
    "print(\"Recall:\",recall_score(y_test, y_pred))\n",
    "print(\"Precision:\",precision_score(y_test, y_pred))\n",
    "print(\"F1 Score:\",f1_score(y_test, y_pred))"
   ]
  }
 ],
 "metadata": {
  "kernelspec": {
   "display_name": "Python 3",
   "language": "python",
   "name": "python3"
  },
  "language_info": {
   "codemirror_mode": {
    "name": "ipython",
    "version": 3
   },
   "file_extension": ".py",
   "mimetype": "text/x-python",
   "name": "python",
   "nbconvert_exporter": "python",
   "pygments_lexer": "ipython3",
   "version": "3.7.4"
  }
 },
 "nbformat": 4,
 "nbformat_minor": 2
}
