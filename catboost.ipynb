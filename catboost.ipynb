{
 "cells": [
  {
   "cell_type": "code",
   "execution_count": null,
   "metadata": {},
   "outputs": [],
   "source": [
    "#%% Applying CatBoost\n",
    "\n",
    "#Splitting training and test set\n",
    "from sklearn.model_selection import train_test_split\n",
    "x_train, x_test, y_train, y_test = train_test_split(x_data, y_data, test_size = 0.2, random_state = 0)\n",
    "\n",
    "\n",
    "from catboost import CatBoostClassifier\n",
    "categorical_var = np.where(x_train.dtypes != np.float)[0]\n",
    "print('\\nCategorical Variables indices : ',categorical_var)"
   ]
  },
  {
   "cell_type": "code",
   "execution_count": null,
   "metadata": {},
   "outputs": [],
   "source": [
    "cat_model = CatBoostClassifier(iterations=200,learning_rate=0.5)\n",
    "cat_model.fit(x_train,y_train,cat_features=categorical_var, plot=False)\n",
    "\n",
    "cat_pred = cat_model.predict(x_test)"
   ]
  },
  {
   "cell_type": "code",
   "execution_count": null,
   "metadata": {},
   "outputs": [],
   "source": [
    "from sklearn.metrics import confusion_matrix,accuracy_score,precision_score,recall_score,f1_score\n",
    "confusion_matrix = confusion_matrix(cat_pred,y_test)\n",
    "print(confusion_matrix)\n",
    "print(\"Accuracy:\",accuracy_score(cat_pred,y_test))\n",
    "print(\"Recall:\",recall_score(cat_pred,y_test))\n",
    "print(\"Precision:\",precision_score(cat_pred,y_test))\n",
    "print(\"F1 Score:\",f1_score(cat_pred,y_test))"
   ]
  },
  {
   "cell_type": "code",
   "execution_count": null,
   "metadata": {},
   "outputs": [],
   "source": [
    "#cat_model.get_feature_importance()\n",
    "from catboost import Pool\n",
    "def get_feature_imp_plot(method):\n",
    "    \n",
    "    if method == \"Permutation\":\n",
    "        fi =  permutation_importances(cat_model, x_test, y_test, log_loss)\n",
    "    \n",
    "    elif method == \"Baseline\":\n",
    "        fi = baseline_importance(cat_model, x_train, y_train, x_test, y_test, log_loss)\n",
    "    \n",
    "    elif method == \"ShapeValues\":\n",
    "        shap_values = cat_model.get_feature_importance(Pool(x_test, label=y_test,cat_features=categorical_var), \n",
    "                                                                     type=\"ShapValues\")\n",
    "        shap_values = shap_values[:,:-1]\n",
    "        shap.summary_plot(shap_values, x_test) \n",
    "        \n",
    "    else:\n",
    "        fi = cat_model.get_feature_importance(Pool(x_test, label=y_test,cat_features=categorical_var), \n",
    "                                                                     type=method)\n",
    "        \n",
    "    if method != \"ShapeValues\":\n",
    "        feature_score = pd.DataFrame(list(zip(x_test.dtypes.index, fi )),\n",
    "                                        columns=['Feature','Score'])\n",
    "\n",
    "        feature_score = feature_score.sort_values(by='Score', ascending=False, inplace=False, kind='quicksort', na_position='last')\n",
    "\n",
    "        plt.rcParams[\"figure.figsize\"] = (12,7)\n",
    "        ax = feature_score.plot('Feature', 'Score', kind='bar', color='c')\n",
    "        ax.set_title(\"Feature Importance using {}\".format(method), fontsize = 14)\n",
    "        ax.set_xlabel(\"features\")\n",
    "        ax.set_ylabel(\"scores\")\n",
    "        plt.show()\n",
    "\n",
    "get_feature_imp_plot(method=\"PredictionValuesChange\")"
   ]
  }
 ],
 "metadata": {
  "kernelspec": {
   "display_name": "Python 3",
   "language": "python",
   "name": "python3"
  },
  "language_info": {
   "codemirror_mode": {
    "name": "ipython",
    "version": 3
   },
   "file_extension": ".py",
   "mimetype": "text/x-python",
   "name": "python",
   "nbconvert_exporter": "python",
   "pygments_lexer": "ipython3",
   "version": "3.7.4"
  }
 },
 "nbformat": 4,
 "nbformat_minor": 2
}
